{
 "cells": [
  {
   "cell_type": "markdown",
   "id": "06a2b7ac",
   "metadata": {},
   "source": [
    "# Energy consumption prediction\n",
    "* Brocco Mattia **|** 873058\n",
    "* Piccolo Giulio **|** 874727"
   ]
  },
  {
   "cell_type": "code",
   "execution_count": 1,
   "id": "e092db19",
   "metadata": {
    "ExecuteTime": {
     "end_time": "2023-04-04T18:12:32.602930Z",
     "start_time": "2023-04-04T18:12:29.276399Z"
    }
   },
   "outputs": [],
   "source": [
    "import warnings\n",
    "import numpy as np\n",
    "import pandas as pd\n",
    "import seaborn as sns\n",
    "from pprint import pprint\n",
    "import matplotlib.pyplot as plt\n",
    "\n",
    "from statsmodels.tsa.stattools import acf\n",
    "from statsmodels.tsa.stattools import pacf \n",
    "from statsmodels.tsa.arima.model import ARIMA\n",
    "\n",
    "warnings.filterwarnings(\"ignore\")\n",
    "\n",
    "%reload_ext autoreload\n",
    "%autoreload 2"
   ]
  },
  {
   "cell_type": "code",
   "execution_count": 2,
   "id": "ebc62152",
   "metadata": {
    "ExecuteTime": {
     "end_time": "2023-04-04T18:12:33.007953Z",
     "start_time": "2023-04-04T18:12:32.607881Z"
    }
   },
   "outputs": [
    {
     "name": "stdout",
     "output_type": "stream",
     "text": [
      "(19735, 27)\n"
     ]
    }
   ],
   "source": [
    "data = pd.read_csv(\".\\\\data\\\\energydata_complete.csv\", parse_dates = [\"date\"])\n",
    "data = data.dropna()\n",
    "names = [\"date\", \"appliance_wh\", \"light_wh\", \"kitchen_celsius\", \"kitchen_hum_perc\",\n",
    "        \"living_celsius\", \"living_hum_perc\", \"laundry_celsius\", \"laundry_hum_perc\",\n",
    "         \"office_celsius\", \"office_hum_perc\", \"bathroom_celsius\", \"bathroom_hum_perc\",\n",
    "         \"portico_celsius\", \"portico_hum_perc\", \"ironing_celsius\", \"ironing_hum_perc\",\n",
    "         \"teen_celsius\", \"teen_hum_perc\", \"parents_celsius\", \"parents_hum_perc\",\n",
    "         \"cws_celsius\", \"cws_pressure\", \"cws_hum_perc\", \"cws_wind\", \"cws_visibility\",\n",
    "         \"cws_dew_point\",\"rv1\",\"rv2\"]\n",
    "\n",
    "data = data.rename(columns = dict(zip(data.columns, names)))\n",
    "data = data.drop_duplicates(data.columns, keep = \"last\")\n",
    "\n",
    "data = data.drop([\"rv1\", \"rv2\"], axis = 1)\n",
    "\n",
    "print(data.shape)"
   ]
  },
  {
   "cell_type": "code",
   "execution_count": 5,
   "id": "63313e44",
   "metadata": {
    "ExecuteTime": {
     "end_time": "2023-04-04T18:13:54.752924Z",
     "start_time": "2023-04-04T18:13:54.581092Z"
    }
   },
   "outputs": [],
   "source": [
    "arima_model = ARIMA(endog = data[\"appliance_wh\"], order=(1, 1, 1))\n",
    "arima_res = arima_model.fit()"
   ]
  },
  {
   "cell_type": "code",
   "execution_count": 9,
   "id": "99ed2984",
   "metadata": {
    "ExecuteTime": {
     "end_time": "2023-04-04T18:14:45.973371Z",
     "start_time": "2023-04-04T18:14:45.702218Z"
    }
   },
   "outputs": [
    {
     "name": "stdout",
     "output_type": "stream",
     "text": [
      "                               SARIMAX Results                                \n",
      "==============================================================================\n",
      "Dep. Variable:           appliance_wh   No. Observations:                19735\n",
      "Model:                 ARIMA(1, 1, 1)   Log Likelihood             -111084.462\n",
      "Date:                Tue, 04 Apr 2023   AIC                         222174.923\n",
      "Time:                        20:14:45   BIC                         222198.594\n",
      "Sample:                             0   HQIC                        222182.673\n",
      "                              - 19735                                         \n",
      "Covariance Type:                  opg                                         \n",
      "==============================================================================\n",
      "                 coef    std err          z      P>|z|      [0.025      0.975]\n",
      "------------------------------------------------------------------------------\n",
      "ar.L1          0.6607      0.004    162.508      0.000       0.653       0.669\n",
      "ma.L1         -0.9448      0.002   -400.467      0.000      -0.949      -0.940\n",
      "sigma2      4537.5743     13.712    330.926      0.000    4510.700    4564.449\n",
      "===================================================================================\n",
      "Ljung-Box (L1) (Q):                 149.89   Jarque-Bera (JB):            413264.22\n",
      "Prob(Q):                              0.00   Prob(JB):                         0.00\n",
      "Heteroskedasticity (H):               0.79   Skew:                             3.02\n",
      "Prob(H) (two-sided):                  0.00   Kurtosis:                        24.59\n",
      "===================================================================================\n",
      "\n",
      "Warnings:\n",
      "[1] Covariance matrix calculated using the outer product of gradients (complex-step).\n"
     ]
    }
   ],
   "source": [
    "print(arima_res.summary())"
   ]
  }
 ],
 "metadata": {
  "kernelspec": {
   "display_name": "Python 3 (ipykernel)",
   "language": "python",
   "name": "python3"
  },
  "language_info": {
   "codemirror_mode": {
    "name": "ipython",
    "version": 3
   },
   "file_extension": ".py",
   "mimetype": "text/x-python",
   "name": "python",
   "nbconvert_exporter": "python",
   "pygments_lexer": "ipython3",
   "version": "3.9.12"
  }
 },
 "nbformat": 4,
 "nbformat_minor": 5
}
